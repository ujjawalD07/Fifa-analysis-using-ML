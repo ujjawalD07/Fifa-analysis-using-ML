{
 "cells": [
  {
   "cell_type": "code",
   "execution_count": 1,
   "id": "fa048628",
   "metadata": {},
   "outputs": [
    {
     "name": "stdout",
     "output_type": "stream",
     "text": [
      "hello world\n"
     ]
    }
   ],
   "source": [
    "print(\"hello world\")"
   ]
  },
  {
   "cell_type": "code",
   "execution_count": 2,
   "id": "f21ded3c",
   "metadata": {},
   "outputs": [
    {
     "name": "stdout",
     "output_type": "stream",
     "text": [
      "2\n"
     ]
    }
   ],
   "source": [
    "a=2\n",
    "print(a)"
   ]
  },
  {
   "cell_type": "code",
   "execution_count": 3,
   "id": "a7fa7806",
   "metadata": {},
   "outputs": [
    {
     "name": "stdout",
     "output_type": "stream",
     "text": [
      "2.5\n"
     ]
    }
   ],
   "source": [
    "b=2.5\n",
    "print(b)"
   ]
  },
  {
   "cell_type": "code",
   "execution_count": 4,
   "id": "2a5a8eaa",
   "metadata": {},
   "outputs": [
    {
     "name": "stdout",
     "output_type": "stream",
     "text": [
      "A\n"
     ]
    }
   ],
   "source": [
    "c=\"A\"\n",
    "print(c)"
   ]
  },
  {
   "cell_type": "code",
   "execution_count": 5,
   "id": "20e46d8b",
   "metadata": {},
   "outputs": [
    {
     "data": {
      "text/plain": [
       "140705458825040"
      ]
     },
     "execution_count": 5,
     "metadata": {},
     "output_type": "execute_result"
    }
   ],
   "source": [
    "id(a)"
   ]
  },
  {
   "cell_type": "code",
   "execution_count": 6,
   "id": "0044e9ad",
   "metadata": {},
   "outputs": [
    {
     "data": {
      "text/plain": [
       "int"
      ]
     },
     "execution_count": 6,
     "metadata": {},
     "output_type": "execute_result"
    }
   ],
   "source": [
    "type(a)"
   ]
  },
  {
   "cell_type": "code",
   "execution_count": 7,
   "id": "7ed1b26c",
   "metadata": {},
   "outputs": [
    {
     "data": {
      "text/plain": [
       "float"
      ]
     },
     "execution_count": 7,
     "metadata": {},
     "output_type": "execute_result"
    }
   ],
   "source": [
    "type(b)"
   ]
  },
  {
   "cell_type": "code",
   "execution_count": 8,
   "id": "4fb0dc89",
   "metadata": {},
   "outputs": [
    {
     "data": {
      "text/plain": [
       "str"
      ]
     },
     "execution_count": 8,
     "metadata": {},
     "output_type": "execute_result"
    }
   ],
   "source": [
    "type(c)"
   ]
  },
  {
   "cell_type": "code",
   "execution_count": 9,
   "id": "950bfb3f",
   "metadata": {},
   "outputs": [
    {
     "name": "stdout",
     "output_type": "stream",
     "text": [
      "Enter a number: 12\n",
      "Enter another number: 22\n",
      "34\n"
     ]
    }
   ],
   "source": [
    "a=int(input(\"Enter a number: \"))\n",
    "b=int(input(\"Enter another number: \"))\n",
    "print(a+b)"
   ]
  },
  {
   "cell_type": "code",
   "execution_count": 10,
   "id": "2a8486f7",
   "metadata": {},
   "outputs": [
    {
     "name": "stdout",
     "output_type": "stream",
     "text": [
      "Enter your name: Ujjawal Dwivedi\n",
      "Enter your age: 20\n",
      "Enter your income: 0\n",
      "Name is Ujjawal Dwivedi, age is 20, income is 0\n"
     ]
    }
   ],
   "source": [
    "name=input(\"Enter your name: \")\n",
    "age=int(input(\"Enter your age: \"))\n",
    "income=int(input(\"Enter your income: \"))\n",
    "print(f'Name is {name}, age is {age}, income is {income}')"
   ]
  },
  {
   "cell_type": "code",
   "execution_count": 11,
   "id": "b0d440e4",
   "metadata": {},
   "outputs": [
    {
     "name": "stdout",
     "output_type": "stream",
     "text": [
      "printing multiple things like 1 2 and 3.14159\n"
     ]
    }
   ],
   "source": [
    "print(\"printing\",\"multiple\",\"things\",\"like\",1,2, \"and\" , 3.14159)"
   ]
  },
  {
   "cell_type": "code",
   "execution_count": 14,
   "id": "b30fa719",
   "metadata": {},
   "outputs": [
    {
     "name": "stdout",
     "output_type": "stream",
     "text": [
      "print statement\n",
      "by default ends with a\n",
      "newline abcd\n"
     ]
    }
   ],
   "source": [
    "print(\"print statement\")\n",
    "print(\"by default ends with a\")\n",
    "print(\"newline\",end=\" \")\n",
    "print(\"abcd\")"
   ]
  },
  {
   "cell_type": "code",
   "execution_count": 15,
   "id": "fd68ee00",
   "metadata": {},
   "outputs": [
    {
     "name": "stdout",
     "output_type": "stream",
     "text": [
      "3+2= 5\n"
     ]
    }
   ],
   "source": [
    "print(\"3+2=\",3+2)"
   ]
  },
  {
   "cell_type": "code",
   "execution_count": 16,
   "id": "5a21b737",
   "metadata": {},
   "outputs": [
    {
     "name": "stdout",
     "output_type": "stream",
     "text": [
      "3//2= 1\n"
     ]
    }
   ],
   "source": [
    "print(\"3//2=\",3//2)"
   ]
  },
  {
   "cell_type": "code",
   "execution_count": 18,
   "id": "b8c57068",
   "metadata": {},
   "outputs": [
    {
     "name": "stdout",
     "output_type": "stream",
     "text": [
      "3**2= 9\n"
     ]
    }
   ],
   "source": [
    "print(\"3**2=\",3**2)"
   ]
  },
  {
   "cell_type": "code",
   "execution_count": 19,
   "id": "37caf9b5",
   "metadata": {},
   "outputs": [],
   "source": [
    "age=20\n",
    "name=\"Ujjawal\""
   ]
  },
  {
   "cell_type": "code",
   "execution_count": 20,
   "id": "cd942ed1",
   "metadata": {},
   "outputs": [
    {
     "name": "stdout",
     "output_type": "stream",
     "text": [
      "Ujjawal is 20 years old\n"
     ]
    }
   ],
   "source": [
    "print(name,\"is\",age,\"years old\")"
   ]
  },
  {
   "cell_type": "code",
   "execution_count": 22,
   "id": "87289b25",
   "metadata": {},
   "outputs": [
    {
     "name": "stdout",
     "output_type": "stream",
     "text": [
      "x=x+1= 11\n",
      "x=x-1= 10\n",
      "x=x*1= 10\n"
     ]
    }
   ],
   "source": [
    "x=10\n",
    "x+=1\n",
    "print(\"x=x+1=\",x)\n",
    "x-=1\n",
    "print(\"x=x-1=\",x)\n",
    "x*=1\n",
    "print(\"x=x*1=\",x)"
   ]
  },
  {
   "cell_type": "code",
   "execution_count": 24,
   "id": "7b601eb5",
   "metadata": {},
   "outputs": [],
   "source": [
    "x=25\n",
    "y=8.59\n",
    "z=1+1j"
   ]
  },
  {
   "cell_type": "code",
   "execution_count": 25,
   "id": "9b49def0",
   "metadata": {},
   "outputs": [
    {
     "data": {
      "text/plain": [
       "42.18"
      ]
     },
     "execution_count": 25,
     "metadata": {},
     "output_type": "execute_result"
    }
   ],
   "source": [
    "x+y*2"
   ]
  },
  {
   "cell_type": "code",
   "execution_count": 28,
   "id": "fe454e77",
   "metadata": {},
   "outputs": [
    {
     "name": "stdout",
     "output_type": "stream",
     "text": [
      "UJJAWAL\n",
      "Ujjawal\n"
     ]
    }
   ],
   "source": [
    "a='Ujjawal'\n",
    "print(a.upper())\n",
    "print(a.title())"
   ]
  }
 ],
 "metadata": {
  "kernelspec": {
   "display_name": "Python 3",
   "language": "python",
   "name": "python3"
  },
  "language_info": {
   "codemirror_mode": {
    "name": "ipython",
    "version": 3
   },
   "file_extension": ".py",
   "mimetype": "text/x-python",
   "name": "python",
   "nbconvert_exporter": "python",
   "pygments_lexer": "ipython3",
   "version": "3.8.8"
  }
 },
 "nbformat": 4,
 "nbformat_minor": 5
}
